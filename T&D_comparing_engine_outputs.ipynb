{
  "nbformat": 4,
  "nbformat_minor": 0,
  "metadata": {
    "colab": {
      "provenance": [],
      "authorship_tag": "ABX9TyP6wqPyvu/DZ8thHWZQFMrZ",
      "include_colab_link": true
    },
    "kernelspec": {
      "name": "python3",
      "display_name": "Python 3"
    },
    "language_info": {
      "name": "python"
    }
  },
  "cells": [
    {
      "cell_type": "markdown",
      "metadata": {
        "id": "view-in-github",
        "colab_type": "text"
      },
      "source": [
        "<a href=\"https://colab.research.google.com/github/DiogoMondin/comparing_engine_outputs/blob/main/T%26D_comparing_engine_outputs.ipynb\" target=\"_parent\"><img src=\"https://colab.research.google.com/assets/colab-badge.svg\" alt=\"Open In Colab\"/></a>"
      ]
    },
    {
      "cell_type": "markdown",
      "source": [
        "# Imports"
      ],
      "metadata": {
        "id": "olfL2HNNdsmW"
      }
    },
    {
      "cell_type": "code",
      "execution_count": 1,
      "metadata": {
        "id": "5WoNgS1912oo"
      },
      "outputs": [],
      "source": [
        "import kagglehub\n",
        "import os\n",
        "import time\n",
        "import psutil\n",
        "\n",
        "from pyspark.sql import SparkSession\n",
        "import pyspark.sql.types as T\n",
        "import pyspark.sql.functions as F\n",
        "import pandas as pd\n",
        "import duckdb\n",
        "import polars as pl\n",
        "\n",
        "import matplotlib.pyplot as plt"
      ]
    },
    {
      "cell_type": "markdown",
      "source": [
        "# Load Dataset"
      ],
      "metadata": {
        "id": "lBiGbMXIdwEN"
      }
    },
    {
      "cell_type": "code",
      "source": [
        "path = kagglehub.dataset_download(\"microize/newyork-yellow-taxi-trip-data-2020-2019\")\n",
        "\n",
        "for root, dirs, files in os.walk(path):\n",
        "    for file in files:\n",
        "        print(os.path.join(root, file))"
      ],
      "metadata": {
        "colab": {
          "base_uri": "https://localhost:8080/"
        },
        "id": "i6vH6Vqn2X_W",
        "outputId": "e8bf24fc-cf72-4a9b-f354-1b838e699da3"
      },
      "execution_count": 2,
      "outputs": [
        {
          "output_type": "stream",
          "name": "stdout",
          "text": [
            "/kaggle/input/newyork-yellow-taxi-trip-data-2020-2019/yellow_tripdata_2019-10.csv\n",
            "/kaggle/input/newyork-yellow-taxi-trip-data-2020-2019/yellow_tripdata_2019-02.csv\n",
            "/kaggle/input/newyork-yellow-taxi-trip-data-2020-2019/yellow_tripdata_2019-03.csv\n",
            "/kaggle/input/newyork-yellow-taxi-trip-data-2020-2019/yellow_tripdata_2020-04.csv\n",
            "/kaggle/input/newyork-yellow-taxi-trip-data-2020-2019/taxi+_zone_lookup.csv\n",
            "/kaggle/input/newyork-yellow-taxi-trip-data-2020-2019/yellow_tripdata_2019-09.csv\n",
            "/kaggle/input/newyork-yellow-taxi-trip-data-2020-2019/yellow_tripdata_2019-12.csv\n",
            "/kaggle/input/newyork-yellow-taxi-trip-data-2020-2019/yellow_tripdata_2020-03.csv\n",
            "/kaggle/input/newyork-yellow-taxi-trip-data-2020-2019/yellow_tripdata_2019-07.csv\n",
            "/kaggle/input/newyork-yellow-taxi-trip-data-2020-2019/yellow_tripdata_2019-11.csv\n",
            "/kaggle/input/newyork-yellow-taxi-trip-data-2020-2019/yellow_tripdata_2019-05.csv\n",
            "/kaggle/input/newyork-yellow-taxi-trip-data-2020-2019/yellow_tripdata_2020-01.csv\n",
            "/kaggle/input/newyork-yellow-taxi-trip-data-2020-2019/yellow_tripdata_2020-06.csv\n",
            "/kaggle/input/newyork-yellow-taxi-trip-data-2020-2019/yellow_tripdata_2020-02.csv\n",
            "/kaggle/input/newyork-yellow-taxi-trip-data-2020-2019/yellow_tripdata_2020-05.csv\n",
            "/kaggle/input/newyork-yellow-taxi-trip-data-2020-2019/yellow_tripdata_2019-04.csv\n",
            "/kaggle/input/newyork-yellow-taxi-trip-data-2020-2019/yellow_tripdata_2019-01.csv\n",
            "/kaggle/input/newyork-yellow-taxi-trip-data-2020-2019/yellow_tripdata_2019-08.csv\n",
            "/kaggle/input/newyork-yellow-taxi-trip-data-2020-2019/yellow_tripdata_2019-06.csv\n",
            "/kaggle/input/newyork-yellow-taxi-trip-data-2020-2019/taxi_zones/taxi_zones.dbf\n",
            "/kaggle/input/newyork-yellow-taxi-trip-data-2020-2019/taxi_zones/taxi_zones.shp.xml\n",
            "/kaggle/input/newyork-yellow-taxi-trip-data-2020-2019/taxi_zones/taxi_zones.shp\n",
            "/kaggle/input/newyork-yellow-taxi-trip-data-2020-2019/taxi_zones/taxi_zones.shx\n",
            "/kaggle/input/newyork-yellow-taxi-trip-data-2020-2019/taxi_zones/taxi_zones.sbx\n",
            "/kaggle/input/newyork-yellow-taxi-trip-data-2020-2019/taxi_zones/taxi_zones.sbn\n",
            "/kaggle/input/newyork-yellow-taxi-trip-data-2020-2019/taxi_zones/taxi_zones.prj\n"
          ]
        }
      ]
    },
    {
      "cell_type": "code",
      "source": [
        "trip_csv = \"/kaggle/input/newyork-yellow-taxi-trip-data-2020-2019/yellow_tripdata_2020-06.csv\""
      ],
      "metadata": {
        "id": "pPXZNuVQCFeA"
      },
      "execution_count": 3,
      "outputs": []
    },
    {
      "cell_type": "markdown",
      "source": [
        "# Memory Usage Function"
      ],
      "metadata": {
        "id": "z_JHCgpYd3N1"
      }
    },
    {
      "cell_type": "code",
      "source": [
        "def get_memory_usage_mb():\n",
        "    process = psutil.Process(os.getpid())\n",
        "    mem_bytes = process.memory_info().rss  # Resident Set Size\n",
        "    return mem_bytes / (1024 * 1024)  # Convert to MB"
      ],
      "metadata": {
        "id": "1AbXn4XYd9Wf"
      },
      "execution_count": 4,
      "outputs": []
    },
    {
      "cell_type": "markdown",
      "source": [
        "# Data Display"
      ],
      "metadata": {
        "id": "61fscBBVI_hM"
      }
    },
    {
      "cell_type": "code",
      "source": [
        "trip_df = pd.read_csv(trip_csv)\n",
        "trip_df.head()"
      ],
      "metadata": {
        "colab": {
          "base_uri": "https://localhost:8080/",
          "height": 261
        },
        "id": "TGYFdrbiI8R7",
        "outputId": "0b7eb514-45c3-46f9-d5ea-a7d9d743b161"
      },
      "execution_count": 5,
      "outputs": [
        {
          "output_type": "stream",
          "name": "stderr",
          "text": [
            "/tmp/ipython-input-5-4060199421.py:1: DtypeWarning: Columns (6) have mixed types. Specify dtype option on import or set low_memory=False.\n",
            "  trip_df = pd.read_csv(trip_csv)\n"
          ]
        },
        {
          "output_type": "execute_result",
          "data": {
            "text/plain": [
              "   VendorID tpep_pickup_datetime tpep_dropoff_datetime  passenger_count  \\\n",
              "0       1.0  2020-06-01 00:31:23   2020-06-01 00:49:58              1.0   \n",
              "1       1.0  2020-06-01 00:42:50   2020-06-01 01:04:33              1.0   \n",
              "2       1.0  2020-06-01 00:39:51   2020-06-01 00:49:09              1.0   \n",
              "3       1.0  2020-06-01 00:56:13   2020-06-01 01:11:38              1.0   \n",
              "4       1.0  2020-06-01 00:16:41   2020-06-01 00:29:30              1.0   \n",
              "\n",
              "   trip_distance  RatecodeID store_and_fwd_flag  PULocationID  DOLocationID  \\\n",
              "0            3.6         1.0                  N           140            68   \n",
              "1            5.6         1.0                  N            79           226   \n",
              "2            2.3         1.0                  N           238           116   \n",
              "3            5.3         1.0                  N           141           116   \n",
              "4            4.4         1.0                  N           186            75   \n",
              "\n",
              "   payment_type  fare_amount  extra  mta_tax  tip_amount  tolls_amount  \\\n",
              "0           1.0         15.5    3.0      0.5        4.00           0.0   \n",
              "1           1.0         19.5    3.0      0.5        2.00           0.0   \n",
              "2           2.0         10.0    0.5      0.5        0.00           0.0   \n",
              "3           2.0         17.5    3.0      0.5        0.00           0.0   \n",
              "4           1.0         14.5    3.0      0.5        3.65           0.0   \n",
              "\n",
              "   improvement_surcharge  total_amount  congestion_surcharge  \n",
              "0                    0.3         23.30                   2.5  \n",
              "1                    0.3         25.30                   2.5  \n",
              "2                    0.3         11.30                   0.0  \n",
              "3                    0.3         21.30                   2.5  \n",
              "4                    0.3         21.95                   2.5  "
            ],
            "text/html": [
              "\n",
              "  <div id=\"df-54e6ee6f-c136-4829-85c4-cb25ed8c98ce\" class=\"colab-df-container\">\n",
              "    <div>\n",
              "<style scoped>\n",
              "    .dataframe tbody tr th:only-of-type {\n",
              "        vertical-align: middle;\n",
              "    }\n",
              "\n",
              "    .dataframe tbody tr th {\n",
              "        vertical-align: top;\n",
              "    }\n",
              "\n",
              "    .dataframe thead th {\n",
              "        text-align: right;\n",
              "    }\n",
              "</style>\n",
              "<table border=\"1\" class=\"dataframe\">\n",
              "  <thead>\n",
              "    <tr style=\"text-align: right;\">\n",
              "      <th></th>\n",
              "      <th>VendorID</th>\n",
              "      <th>tpep_pickup_datetime</th>\n",
              "      <th>tpep_dropoff_datetime</th>\n",
              "      <th>passenger_count</th>\n",
              "      <th>trip_distance</th>\n",
              "      <th>RatecodeID</th>\n",
              "      <th>store_and_fwd_flag</th>\n",
              "      <th>PULocationID</th>\n",
              "      <th>DOLocationID</th>\n",
              "      <th>payment_type</th>\n",
              "      <th>fare_amount</th>\n",
              "      <th>extra</th>\n",
              "      <th>mta_tax</th>\n",
              "      <th>tip_amount</th>\n",
              "      <th>tolls_amount</th>\n",
              "      <th>improvement_surcharge</th>\n",
              "      <th>total_amount</th>\n",
              "      <th>congestion_surcharge</th>\n",
              "    </tr>\n",
              "  </thead>\n",
              "  <tbody>\n",
              "    <tr>\n",
              "      <th>0</th>\n",
              "      <td>1.0</td>\n",
              "      <td>2020-06-01 00:31:23</td>\n",
              "      <td>2020-06-01 00:49:58</td>\n",
              "      <td>1.0</td>\n",
              "      <td>3.6</td>\n",
              "      <td>1.0</td>\n",
              "      <td>N</td>\n",
              "      <td>140</td>\n",
              "      <td>68</td>\n",
              "      <td>1.0</td>\n",
              "      <td>15.5</td>\n",
              "      <td>3.0</td>\n",
              "      <td>0.5</td>\n",
              "      <td>4.00</td>\n",
              "      <td>0.0</td>\n",
              "      <td>0.3</td>\n",
              "      <td>23.30</td>\n",
              "      <td>2.5</td>\n",
              "    </tr>\n",
              "    <tr>\n",
              "      <th>1</th>\n",
              "      <td>1.0</td>\n",
              "      <td>2020-06-01 00:42:50</td>\n",
              "      <td>2020-06-01 01:04:33</td>\n",
              "      <td>1.0</td>\n",
              "      <td>5.6</td>\n",
              "      <td>1.0</td>\n",
              "      <td>N</td>\n",
              "      <td>79</td>\n",
              "      <td>226</td>\n",
              "      <td>1.0</td>\n",
              "      <td>19.5</td>\n",
              "      <td>3.0</td>\n",
              "      <td>0.5</td>\n",
              "      <td>2.00</td>\n",
              "      <td>0.0</td>\n",
              "      <td>0.3</td>\n",
              "      <td>25.30</td>\n",
              "      <td>2.5</td>\n",
              "    </tr>\n",
              "    <tr>\n",
              "      <th>2</th>\n",
              "      <td>1.0</td>\n",
              "      <td>2020-06-01 00:39:51</td>\n",
              "      <td>2020-06-01 00:49:09</td>\n",
              "      <td>1.0</td>\n",
              "      <td>2.3</td>\n",
              "      <td>1.0</td>\n",
              "      <td>N</td>\n",
              "      <td>238</td>\n",
              "      <td>116</td>\n",
              "      <td>2.0</td>\n",
              "      <td>10.0</td>\n",
              "      <td>0.5</td>\n",
              "      <td>0.5</td>\n",
              "      <td>0.00</td>\n",
              "      <td>0.0</td>\n",
              "      <td>0.3</td>\n",
              "      <td>11.30</td>\n",
              "      <td>0.0</td>\n",
              "    </tr>\n",
              "    <tr>\n",
              "      <th>3</th>\n",
              "      <td>1.0</td>\n",
              "      <td>2020-06-01 00:56:13</td>\n",
              "      <td>2020-06-01 01:11:38</td>\n",
              "      <td>1.0</td>\n",
              "      <td>5.3</td>\n",
              "      <td>1.0</td>\n",
              "      <td>N</td>\n",
              "      <td>141</td>\n",
              "      <td>116</td>\n",
              "      <td>2.0</td>\n",
              "      <td>17.5</td>\n",
              "      <td>3.0</td>\n",
              "      <td>0.5</td>\n",
              "      <td>0.00</td>\n",
              "      <td>0.0</td>\n",
              "      <td>0.3</td>\n",
              "      <td>21.30</td>\n",
              "      <td>2.5</td>\n",
              "    </tr>\n",
              "    <tr>\n",
              "      <th>4</th>\n",
              "      <td>1.0</td>\n",
              "      <td>2020-06-01 00:16:41</td>\n",
              "      <td>2020-06-01 00:29:30</td>\n",
              "      <td>1.0</td>\n",
              "      <td>4.4</td>\n",
              "      <td>1.0</td>\n",
              "      <td>N</td>\n",
              "      <td>186</td>\n",
              "      <td>75</td>\n",
              "      <td>1.0</td>\n",
              "      <td>14.5</td>\n",
              "      <td>3.0</td>\n",
              "      <td>0.5</td>\n",
              "      <td>3.65</td>\n",
              "      <td>0.0</td>\n",
              "      <td>0.3</td>\n",
              "      <td>21.95</td>\n",
              "      <td>2.5</td>\n",
              "    </tr>\n",
              "  </tbody>\n",
              "</table>\n",
              "</div>\n",
              "    <div class=\"colab-df-buttons\">\n",
              "\n",
              "  <div class=\"colab-df-container\">\n",
              "    <button class=\"colab-df-convert\" onclick=\"convertToInteractive('df-54e6ee6f-c136-4829-85c4-cb25ed8c98ce')\"\n",
              "            title=\"Convert this dataframe to an interactive table.\"\n",
              "            style=\"display:none;\">\n",
              "\n",
              "  <svg xmlns=\"http://www.w3.org/2000/svg\" height=\"24px\" viewBox=\"0 -960 960 960\">\n",
              "    <path d=\"M120-120v-720h720v720H120Zm60-500h600v-160H180v160Zm220 220h160v-160H400v160Zm0 220h160v-160H400v160ZM180-400h160v-160H180v160Zm440 0h160v-160H620v160ZM180-180h160v-160H180v160Zm440 0h160v-160H620v160Z\"/>\n",
              "  </svg>\n",
              "    </button>\n",
              "\n",
              "  <style>\n",
              "    .colab-df-container {\n",
              "      display:flex;\n",
              "      gap: 12px;\n",
              "    }\n",
              "\n",
              "    .colab-df-convert {\n",
              "      background-color: #E8F0FE;\n",
              "      border: none;\n",
              "      border-radius: 50%;\n",
              "      cursor: pointer;\n",
              "      display: none;\n",
              "      fill: #1967D2;\n",
              "      height: 32px;\n",
              "      padding: 0 0 0 0;\n",
              "      width: 32px;\n",
              "    }\n",
              "\n",
              "    .colab-df-convert:hover {\n",
              "      background-color: #E2EBFA;\n",
              "      box-shadow: 0px 1px 2px rgba(60, 64, 67, 0.3), 0px 1px 3px 1px rgba(60, 64, 67, 0.15);\n",
              "      fill: #174EA6;\n",
              "    }\n",
              "\n",
              "    .colab-df-buttons div {\n",
              "      margin-bottom: 4px;\n",
              "    }\n",
              "\n",
              "    [theme=dark] .colab-df-convert {\n",
              "      background-color: #3B4455;\n",
              "      fill: #D2E3FC;\n",
              "    }\n",
              "\n",
              "    [theme=dark] .colab-df-convert:hover {\n",
              "      background-color: #434B5C;\n",
              "      box-shadow: 0px 1px 3px 1px rgba(0, 0, 0, 0.15);\n",
              "      filter: drop-shadow(0px 1px 2px rgba(0, 0, 0, 0.3));\n",
              "      fill: #FFFFFF;\n",
              "    }\n",
              "  </style>\n",
              "\n",
              "    <script>\n",
              "      const buttonEl =\n",
              "        document.querySelector('#df-54e6ee6f-c136-4829-85c4-cb25ed8c98ce button.colab-df-convert');\n",
              "      buttonEl.style.display =\n",
              "        google.colab.kernel.accessAllowed ? 'block' : 'none';\n",
              "\n",
              "      async function convertToInteractive(key) {\n",
              "        const element = document.querySelector('#df-54e6ee6f-c136-4829-85c4-cb25ed8c98ce');\n",
              "        const dataTable =\n",
              "          await google.colab.kernel.invokeFunction('convertToInteractive',\n",
              "                                                    [key], {});\n",
              "        if (!dataTable) return;\n",
              "\n",
              "        const docLinkHtml = 'Like what you see? Visit the ' +\n",
              "          '<a target=\"_blank\" href=https://colab.research.google.com/notebooks/data_table.ipynb>data table notebook</a>'\n",
              "          + ' to learn more about interactive tables.';\n",
              "        element.innerHTML = '';\n",
              "        dataTable['output_type'] = 'display_data';\n",
              "        await google.colab.output.renderOutput(dataTable, element);\n",
              "        const docLink = document.createElement('div');\n",
              "        docLink.innerHTML = docLinkHtml;\n",
              "        element.appendChild(docLink);\n",
              "      }\n",
              "    </script>\n",
              "  </div>\n",
              "\n",
              "\n",
              "    <div id=\"df-ffd78f91-fdb6-46f5-8f15-15b0f3ddaaad\">\n",
              "      <button class=\"colab-df-quickchart\" onclick=\"quickchart('df-ffd78f91-fdb6-46f5-8f15-15b0f3ddaaad')\"\n",
              "                title=\"Suggest charts\"\n",
              "                style=\"display:none;\">\n",
              "\n",
              "<svg xmlns=\"http://www.w3.org/2000/svg\" height=\"24px\"viewBox=\"0 0 24 24\"\n",
              "     width=\"24px\">\n",
              "    <g>\n",
              "        <path d=\"M19 3H5c-1.1 0-2 .9-2 2v14c0 1.1.9 2 2 2h14c1.1 0 2-.9 2-2V5c0-1.1-.9-2-2-2zM9 17H7v-7h2v7zm4 0h-2V7h2v10zm4 0h-2v-4h2v4z\"/>\n",
              "    </g>\n",
              "</svg>\n",
              "      </button>\n",
              "\n",
              "<style>\n",
              "  .colab-df-quickchart {\n",
              "      --bg-color: #E8F0FE;\n",
              "      --fill-color: #1967D2;\n",
              "      --hover-bg-color: #E2EBFA;\n",
              "      --hover-fill-color: #174EA6;\n",
              "      --disabled-fill-color: #AAA;\n",
              "      --disabled-bg-color: #DDD;\n",
              "  }\n",
              "\n",
              "  [theme=dark] .colab-df-quickchart {\n",
              "      --bg-color: #3B4455;\n",
              "      --fill-color: #D2E3FC;\n",
              "      --hover-bg-color: #434B5C;\n",
              "      --hover-fill-color: #FFFFFF;\n",
              "      --disabled-bg-color: #3B4455;\n",
              "      --disabled-fill-color: #666;\n",
              "  }\n",
              "\n",
              "  .colab-df-quickchart {\n",
              "    background-color: var(--bg-color);\n",
              "    border: none;\n",
              "    border-radius: 50%;\n",
              "    cursor: pointer;\n",
              "    display: none;\n",
              "    fill: var(--fill-color);\n",
              "    height: 32px;\n",
              "    padding: 0;\n",
              "    width: 32px;\n",
              "  }\n",
              "\n",
              "  .colab-df-quickchart:hover {\n",
              "    background-color: var(--hover-bg-color);\n",
              "    box-shadow: 0 1px 2px rgba(60, 64, 67, 0.3), 0 1px 3px 1px rgba(60, 64, 67, 0.15);\n",
              "    fill: var(--button-hover-fill-color);\n",
              "  }\n",
              "\n",
              "  .colab-df-quickchart-complete:disabled,\n",
              "  .colab-df-quickchart-complete:disabled:hover {\n",
              "    background-color: var(--disabled-bg-color);\n",
              "    fill: var(--disabled-fill-color);\n",
              "    box-shadow: none;\n",
              "  }\n",
              "\n",
              "  .colab-df-spinner {\n",
              "    border: 2px solid var(--fill-color);\n",
              "    border-color: transparent;\n",
              "    border-bottom-color: var(--fill-color);\n",
              "    animation:\n",
              "      spin 1s steps(1) infinite;\n",
              "  }\n",
              "\n",
              "  @keyframes spin {\n",
              "    0% {\n",
              "      border-color: transparent;\n",
              "      border-bottom-color: var(--fill-color);\n",
              "      border-left-color: var(--fill-color);\n",
              "    }\n",
              "    20% {\n",
              "      border-color: transparent;\n",
              "      border-left-color: var(--fill-color);\n",
              "      border-top-color: var(--fill-color);\n",
              "    }\n",
              "    30% {\n",
              "      border-color: transparent;\n",
              "      border-left-color: var(--fill-color);\n",
              "      border-top-color: var(--fill-color);\n",
              "      border-right-color: var(--fill-color);\n",
              "    }\n",
              "    40% {\n",
              "      border-color: transparent;\n",
              "      border-right-color: var(--fill-color);\n",
              "      border-top-color: var(--fill-color);\n",
              "    }\n",
              "    60% {\n",
              "      border-color: transparent;\n",
              "      border-right-color: var(--fill-color);\n",
              "    }\n",
              "    80% {\n",
              "      border-color: transparent;\n",
              "      border-right-color: var(--fill-color);\n",
              "      border-bottom-color: var(--fill-color);\n",
              "    }\n",
              "    90% {\n",
              "      border-color: transparent;\n",
              "      border-bottom-color: var(--fill-color);\n",
              "    }\n",
              "  }\n",
              "</style>\n",
              "\n",
              "      <script>\n",
              "        async function quickchart(key) {\n",
              "          const quickchartButtonEl =\n",
              "            document.querySelector('#' + key + ' button');\n",
              "          quickchartButtonEl.disabled = true;  // To prevent multiple clicks.\n",
              "          quickchartButtonEl.classList.add('colab-df-spinner');\n",
              "          try {\n",
              "            const charts = await google.colab.kernel.invokeFunction(\n",
              "                'suggestCharts', [key], {});\n",
              "          } catch (error) {\n",
              "            console.error('Error during call to suggestCharts:', error);\n",
              "          }\n",
              "          quickchartButtonEl.classList.remove('colab-df-spinner');\n",
              "          quickchartButtonEl.classList.add('colab-df-quickchart-complete');\n",
              "        }\n",
              "        (() => {\n",
              "          let quickchartButtonEl =\n",
              "            document.querySelector('#df-ffd78f91-fdb6-46f5-8f15-15b0f3ddaaad button');\n",
              "          quickchartButtonEl.style.display =\n",
              "            google.colab.kernel.accessAllowed ? 'block' : 'none';\n",
              "        })();\n",
              "      </script>\n",
              "    </div>\n",
              "\n",
              "    </div>\n",
              "  </div>\n"
            ],
            "application/vnd.google.colaboratory.intrinsic+json": {
              "type": "dataframe",
              "variable_name": "trip_df"
            }
          },
          "metadata": {},
          "execution_count": 5
        }
      ]
    },
    {
      "cell_type": "markdown",
      "source": [
        "# Data Handling - Mean tips per hour"
      ],
      "metadata": {
        "id": "aey80FW14UvA"
      }
    },
    {
      "cell_type": "code",
      "source": [
        "spark = (\n",
        "    SparkSession.builder\n",
        "    .appName(\"NY Taxi Trip Data\")\n",
        "    .getOrCreate()\n",
        ")"
      ],
      "metadata": {
        "id": "LZlHIvws-8rH"
      },
      "execution_count": 6,
      "outputs": []
    },
    {
      "cell_type": "code",
      "source": [
        "pyspark_trip_df = (\n",
        "    spark.read\n",
        "    .option(\"header\", \"true\")\n",
        "    .csv(trip_csv)\n",
        ")"
      ],
      "metadata": {
        "id": "nxPS2dx9_FbU"
      },
      "execution_count": 7,
      "outputs": []
    },
    {
      "cell_type": "code",
      "source": [
        "pyspark_mean_tips_per_hour_df = (\n",
        "    pyspark_trip_df\n",
        "    .withColumn(\"tip_amount\", F.col(\"tip_amount\").cast(T.DoubleType()))\n",
        "    .withColumn(\"tpep_pickup_datetime\", F.col(\"tpep_pickup_datetime\").cast(T.TimestampType()))\n",
        "    .withColumn(\"hour\", F.hour(\"tpep_pickup_datetime\"))\n",
        "    .groupBy(\"hour\")\n",
        "    .agg(F.round(F.mean(\"tip_amount\"), 2).alias(\"mean_tip_amount\"))\n",
        "    .orderBy(\"hour\")\n",
        ")\n",
        "\n",
        "pyspark_mean_tips_per_hour_df.show()"
      ],
      "metadata": {
        "colab": {
          "base_uri": "https://localhost:8080/"
        },
        "id": "GdXh-5LXFBAk",
        "outputId": "c294138b-46a8-4f73-be5a-82e97e069575"
      },
      "execution_count": 8,
      "outputs": [
        {
          "output_type": "stream",
          "name": "stdout",
          "text": [
            "+----+---------------+\n",
            "|hour|mean_tip_amount|\n",
            "+----+---------------+\n",
            "|   0|           1.66|\n",
            "|   1|           0.93|\n",
            "|   2|           0.64|\n",
            "|   3|           0.47|\n",
            "|   4|           0.38|\n",
            "|   5|           1.12|\n",
            "|   6|            1.4|\n",
            "|   7|           1.67|\n",
            "|   8|           1.73|\n",
            "|   9|           1.74|\n",
            "|  10|           1.75|\n",
            "|  11|           1.68|\n",
            "|  12|            1.7|\n",
            "|  13|           1.65|\n",
            "|  14|           1.68|\n",
            "|  15|            1.8|\n",
            "|  16|           1.96|\n",
            "|  17|           2.07|\n",
            "|  18|           2.06|\n",
            "|  19|           1.98|\n",
            "+----+---------------+\n",
            "only showing top 20 rows\n",
            "\n"
          ]
        }
      ]
    },
    {
      "cell_type": "markdown",
      "source": [
        "# Pyspark"
      ],
      "metadata": {
        "id": "TbcRhUSVOwQe"
      }
    },
    {
      "cell_type": "code",
      "source": [
        "mem_before = get_memory_usage_mb()\n",
        "start_time = time.time()\n",
        "\n",
        "pyspark_mean_tips_per_hour_df.write.format(\"delta\").mode(\"overwrite\").parquet(\"/content/spark_output\")\n",
        "\n",
        "mem_after = get_memory_usage_mb()\n",
        "end_time = time.time()\n",
        "\n",
        "pyspark_write_time = end_time - start_time\n",
        "pyspark_mem_usage = mem_after - mem_before\n",
        "\n",
        "print(f\"Total write time: {end_time - start_time:.2f} seconds\")\n",
        "print(f\"Memory used for write operation: {mem_after - mem_before:.2f} MB\")"
      ],
      "metadata": {
        "colab": {
          "base_uri": "https://localhost:8080/"
        },
        "id": "XQVa9LRPGXW4",
        "outputId": "b5a3ebd7-d2fb-48ab-a75d-71b5ec78d187"
      },
      "execution_count": 9,
      "outputs": [
        {
          "output_type": "stream",
          "name": "stdout",
          "text": [
            "Total write time: 4.71 seconds\n",
            "Memory used for write operation: 0.00 MB\n"
          ]
        }
      ]
    },
    {
      "cell_type": "markdown",
      "source": [
        " # Pandas"
      ],
      "metadata": {
        "id": "yt8qVw8tOtMS"
      }
    },
    {
      "cell_type": "code",
      "source": [
        "pandas_mean_tips_per_hour_df = pyspark_mean_tips_per_hour_df.toPandas()\n",
        "\n",
        "mem_before = get_memory_usage_mb()\n",
        "start_time = time.time()\n",
        "\n",
        "pandas_mean_tips_per_hour_df.to_parquet(\"/content/spark_output.parquet\", index=False)\n",
        "\n",
        "mem_after = get_memory_usage_mb()\n",
        "end_time = time.time()\n",
        "\n",
        "pandas_write_time = end_time - start_time\n",
        "pandas_mem_usage = mem_after - mem_before\n",
        "\n",
        "print(f\"Total write time: {end_time - start_time:.2f} seconds\")\n",
        "print(f\"Memory used for write operation: {mem_after - mem_before:.2f} MB\")"
      ],
      "metadata": {
        "colab": {
          "base_uri": "https://localhost:8080/"
        },
        "id": "cZd8VYfHJtwY",
        "outputId": "9e548e2e-5d01-4dc8-c613-8dbbcbd07385"
      },
      "execution_count": 10,
      "outputs": [
        {
          "output_type": "stream",
          "name": "stdout",
          "text": [
            "Total write time: 0.05 seconds\n",
            "Memory used for write operation: 5.07 MB\n"
          ]
        }
      ]
    },
    {
      "cell_type": "markdown",
      "source": [
        "# DuckDB"
      ],
      "metadata": {
        "id": "oL3LkbxeOmiL"
      }
    },
    {
      "cell_type": "code",
      "source": [
        "con = duckdb.connect()\n",
        "\n",
        "con.register(\"mean_tips_per_hour\", pandas_mean_tips_per_hour_df)\n",
        "\n",
        "mem_before = get_memory_usage_mb()\n",
        "start_time = time.time()\n",
        "\n",
        "con.execute(\"\"\"\n",
        "    COPY mean_tips_per_hour TO '/content/spark_output_duckdb.parquet' (FORMAT 'parquet')\n",
        "\"\"\")\n",
        "\n",
        "mem_after = get_memory_usage_mb()\n",
        "end_time = time.time()\n",
        "\n",
        "duckdb_write_time = end_time - start_time\n",
        "duckdb_mem_usage = mem_after - mem_before\n",
        "\n",
        "print(f\"Total write time: {end_time - start_time:.2f} seconds\")\n",
        "print(f\"Memory used for write operation: {mem_after - mem_before:.2f} MB\")"
      ],
      "metadata": {
        "colab": {
          "base_uri": "https://localhost:8080/"
        },
        "id": "50QeYxLaLCwo",
        "outputId": "920ede7a-6117-4345-d545-ce2b5d1cbfae"
      },
      "execution_count": 11,
      "outputs": [
        {
          "output_type": "stream",
          "name": "stdout",
          "text": [
            "Total write time: 0.01 seconds\n",
            "Memory used for write operation: 2.68 MB\n"
          ]
        }
      ]
    },
    {
      "cell_type": "markdown",
      "source": [
        "# Polars"
      ],
      "metadata": {
        "id": "6VszW5nXOk6T"
      }
    },
    {
      "cell_type": "code",
      "source": [
        "polars_df = pl.from_pandas(pandas_mean_tips_per_hour_df)\n",
        "\n",
        "mem_before = get_memory_usage_mb()\n",
        "start_time = time.time()\n",
        "\n",
        "polars_df.write_parquet(\"/content/spark_output_polars.parquet\")\n",
        "\n",
        "mem_after = get_memory_usage_mb()\n",
        "end_time = time.time()\n",
        "\n",
        "polars_write_time = end_time - start_time\n",
        "polars_mem_usage = mem_after - mem_before\n",
        "\n",
        "print(f\"Total write time: {end_time - start_time:.2f} seconds\")\n",
        "print(f\"Memory used for write operation: {mem_after - mem_before:.2f} MB\")"
      ],
      "metadata": {
        "colab": {
          "base_uri": "https://localhost:8080/"
        },
        "id": "NwYdfBe3NKvP",
        "outputId": "9d5db597-6f82-47bf-fd51-1742d50cbd36"
      },
      "execution_count": 12,
      "outputs": [
        {
          "output_type": "stream",
          "name": "stdout",
          "text": [
            "Total write time: 0.00 seconds\n",
            "Memory used for write operation: 4.15 MB\n"
          ]
        }
      ]
    },
    {
      "cell_type": "code",
      "source": [
        "engines = [\"PySpark\", \"Pandas\", \"DuckDB\", \"Polars\"]\n",
        "write_times = [pyspark_write_time, pandas_write_time, duckdb_write_time, polars_write_time]\n",
        "mem_usages = [pyspark_mem_usage, pandas_mem_usage, duckdb_mem_usage, polars_mem_usage]\n",
        "\n",
        "fig, axs = plt.subplots(1, 2, figsize=(12, 5))\n",
        "\n",
        "# Plot 1 - Write Time\n",
        "bars1 = axs[0].bar(engines, write_times, color=\"steelblue\")\n",
        "axs[0].set_title(\"Write time (seconds)\")\n",
        "axs[0].set_ylabel(\"Seconds\")\n",
        "axs[0].bar_label(bars1, fmt=\"%.2f\", padding=3)\n",
        "\n",
        "# Plot 2 - Memory Usage\n",
        "bars2 = axs[1].bar(engines, mem_usages, color=\"darkorange\")\n",
        "axs[1].set_title(\"Memory Usage (MB)\")\n",
        "axs[1].set_ylabel(\"Megabytes\")\n",
        "axs[1].bar_label(bars2, fmt=\"%.2f\", padding=3)\n",
        "\n",
        "for ax in axs:\n",
        "    ax.set_xlabel(\"Engine\")\n",
        "    ax.set_ylim(bottom=0)\n",
        "    ax.grid(axis=\"y\", linestyle=\"--\", alpha=0.7)\n",
        "\n",
        "plt.suptitle(\"Performance Comparison: Parquet Write\")\n",
        "plt.tight_layout()\n",
        "plt.show()"
      ],
      "metadata": {
        "colab": {
          "base_uri": "https://localhost:8080/",
          "height": 512
        },
        "id": "OF4276O1OVld",
        "outputId": "f7389ddd-660e-47bf-d460-a46d363f243a"
      },
      "execution_count": 13,
      "outputs": [
        {
          "output_type": "display_data",
          "data": {
            "text/plain": [
              "<Figure size 1200x500 with 2 Axes>"
            ],
            "image/png": "[encoded data removed]"
          },
          "metadata": {}
        }
      ]
    }
  ]
}